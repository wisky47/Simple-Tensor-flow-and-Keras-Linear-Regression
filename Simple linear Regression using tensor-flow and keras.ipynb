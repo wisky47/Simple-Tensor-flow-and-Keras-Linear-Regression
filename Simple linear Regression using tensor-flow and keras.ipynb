{
 "cells": [
  {
   "cell_type": "code",
   "execution_count": null,
   "metadata": {},
   "outputs": [],
   "source": [
    "pip install keras"
   ]
  },
  {
   "cell_type": "code",
   "execution_count": null,
   "metadata": {},
   "outputs": [],
   "source": [
    "pip install scikit-learn"
   ]
  },
  {
   "cell_type": "code",
   "execution_count": null,
   "metadata": {},
   "outputs": [],
   "source": [
    "pip install --upgrade tensorflow-gpu"
   ]
  },
  {
   "cell_type": "code",
   "execution_count": 1,
   "metadata": {},
   "outputs": [],
   "source": [
    "import tensorflow.keras"
   ]
  },
  {
   "cell_type": "code",
   "execution_count": 2,
   "metadata": {},
   "outputs": [],
   "source": [
    "from tensorflow.keras import Sequential\n",
    "from tensorflow.keras.layers import Dense, Activation"
   ]
  },
  {
   "cell_type": "code",
   "execution_count": 3,
   "metadata": {},
   "outputs": [],
   "source": [
    "import numpy as np\n",
    "import matplotlib.pyplot as plt "
   ]
  },
  {
   "cell_type": "code",
   "execution_count": 14,
   "metadata": {},
   "outputs": [],
   "source": [
    "x = data = np.linspace(1,2,100)                #you can freely change this part to required details\n",
    "y = x*7 + np.random.randn(*x.shape) * 0.2      #equation "
   ]
  },
  {
   "cell_type": "code",
   "execution_count": 15,
   "metadata": {},
   "outputs": [],
   "source": [
    "model = Sequential()\n",
    "model.add(Dense(1, input_dim=1, activation='linear')) #\n",
    "\n",
    "model.compile(optimizer='adam', loss='mse', metrics=['mse']) # "
   ]
  },
  {
   "cell_type": "code",
   "execution_count": 16,
   "metadata": {},
   "outputs": [
    {
     "name": "stdout",
     "output_type": "stream",
     "text": [
      "Linear regression model is initialized with weights w: 0.87, b: 0.00\n"
     ]
    }
   ],
   "source": [
    "weights = model.layers[0].get_weights()\n",
    "w_init = weights[0][0][0]\n",
    "b_init = weights[1][0]\n",
    "print('Linear regression model is initialized with weights w: %.2f, b: %.2f' % (w_init, b_init))"
   ]
  },
  {
   "cell_type": "code",
   "execution_count": 17,
   "metadata": {},
   "outputs": [
    {
     "name": "stdout",
     "output_type": "stream",
     "text": [
      "Epoch 1/30\n",
      "100/100 [==============================] - 0s 528us/step - loss: 84.7843 - mse: 84.7843\n",
      "Epoch 2/30\n",
      "100/100 [==============================] - 0s 449us/step - loss: 80.0084 - mse: 80.0084\n",
      "Epoch 3/30\n",
      "100/100 [==============================] - 0s 426us/step - loss: 75.7323 - mse: 75.7323\n",
      "Epoch 4/30\n",
      "100/100 [==============================] - 0s 407us/step - loss: 71.6852 - mse: 71.6852\n",
      "Epoch 5/30\n",
      "100/100 [==============================] - 0s 456us/step - loss: 67.8255 - mse: 67.8255\n",
      "Epoch 6/30\n",
      "100/100 [==============================] - 0s 412us/step - loss: 64.1349 - mse: 64.1349\n",
      "Epoch 7/30\n",
      "100/100 [==============================] - 0s 423us/step - loss: 60.6025 - mse: 60.6025\n",
      "Epoch 8/30\n",
      "100/100 [==============================] - 0s 431us/step - loss: 57.2201 - mse: 57.2201\n",
      "Epoch 9/30\n",
      "100/100 [==============================] - 0s 433us/step - loss: 53.9811 - mse: 53.9811\n",
      "Epoch 10/30\n",
      "100/100 [==============================] - 0s 446us/step - loss: 50.8800 - mse: 50.8800\n",
      "Epoch 11/30\n",
      "100/100 [==============================] - 0s 473us/step - loss: 47.9117 - mse: 47.9117\n",
      "Epoch 12/30\n",
      "100/100 [==============================] - 0s 436us/step - loss: 45.0717 - mse: 45.0717\n",
      "Epoch 13/30\n",
      "100/100 [==============================] - ETA: 0s - loss: 13.7393 - mse: 13.739 - 0s 447us/step - loss: 42.3557 - mse: 42.3557\n",
      "Epoch 14/30\n",
      "100/100 [==============================] - 0s 447us/step - loss: 39.7597 - mse: 39.7597\n",
      "Epoch 15/30\n",
      "100/100 [==============================] - 0s 410us/step - loss: 37.2800 - mse: 37.2800\n",
      "Epoch 16/30\n",
      "100/100 [==============================] - 0s 453us/step - loss: 34.9129 - mse: 34.9129\n",
      "Epoch 17/30\n",
      "100/100 [==============================] - 0s 411us/step - loss: 32.6551 - mse: 32.6551\n",
      "Epoch 18/30\n",
      "100/100 [==============================] - 0s 409us/step - loss: 30.5032 - mse: 30.5032\n",
      "Epoch 19/30\n",
      "100/100 [==============================] - 0s 470us/step - loss: 28.4541 - mse: 28.4541\n",
      "Epoch 20/30\n",
      "100/100 [==============================] - 0s 434us/step - loss: 26.5047 - mse: 26.5047\n",
      "Epoch 21/30\n",
      "100/100 [==============================] - 0s 411us/step - loss: 24.6521 - mse: 24.6521\n",
      "Epoch 22/30\n",
      "100/100 [==============================] - 0s 444us/step - loss: 22.8934 - mse: 22.8934\n",
      "Epoch 23/30\n",
      "100/100 [==============================] - 0s 423us/step - loss: 21.2258 - mse: 21.2258\n",
      "Epoch 24/30\n",
      "100/100 [==============================] - 0s 445us/step - loss: 19.6465 - mse: 19.6465\n",
      "Epoch 25/30\n",
      "100/100 [==============================] - 0s 411us/step - loss: 18.1529 - mse: 18.1529\n",
      "Epoch 26/30\n",
      "100/100 [==============================] - 0s 426us/step - loss: 16.7423 - mse: 16.7423\n",
      "Epoch 27/30\n",
      "100/100 [==============================] - 0s 450us/step - loss: 15.4122 - mse: 15.4122\n",
      "Epoch 28/30\n",
      "100/100 [==============================] - 0s 488us/step - loss: 14.1599 - mse: 14.1599\n",
      "Epoch 29/30\n",
      "100/100 [==============================] - 0s 432us/step - loss: 12.9831 - mse: 12.9831\n",
      "Epoch 30/30\n",
      "100/100 [==============================] - 0s 452us/step - loss: 11.8791 - mse: 11.8791\n"
     ]
    },
    {
     "data": {
      "text/plain": [
       "<tensorflow.python.keras.callbacks.History at 0x2270d3092e0>"
      ]
     },
     "execution_count": 17,
     "metadata": {},
     "output_type": "execute_result"
    }
   ],
   "source": [
    "model.fit(x,y, batch_size=1, epochs=30, shuffle=False)"
   ]
  },
  {
   "cell_type": "code",
   "execution_count": 18,
   "metadata": {},
   "outputs": [
    {
     "name": "stdout",
     "output_type": "stream",
     "text": [
      "Linear regression model is trained to have weight w: 3.24, b: 2.45\n"
     ]
    }
   ],
   "source": [
    "weights = model.layers[0].get_weights()\n",
    "w_final = weights[0][0][0]\n",
    "b_final = weights[1][0]\n",
    "print('Linear regression model is trained to have weight w: %.2f, b: %.2f' % (w_final, b_final))"
   ]
  },
  {
   "cell_type": "code",
   "execution_count": 19,
   "metadata": {},
   "outputs": [],
   "source": [
    "predict = model.predict(data)"
   ]
  },
  {
   "cell_type": "code",
   "execution_count": 20,
   "metadata": {},
   "outputs": [
    {
     "data": {
      "image/png": "[encoded data removed]",
      "text/plain": [
       "<Figure size 432x288 with 1 Axes>"
      ]
     },
     "metadata": {
      "needs_background": "light"
     },
     "output_type": "display_data"
    }
   ],
   "source": [
    "plt.plot(data, predict, 'b', data , y, 'k*') # use . * or whatever you prefer\n",
    "plt.show()"
   ]
  },
  {
   "cell_type": "code",
   "execution_count": null,
   "metadata": {},
   "outputs": [],
   "source": []
  }
 ],
 "metadata": {
  "kernelspec": {
   "display_name": "Python 3",
   "language": "python",
   "name": "python3"
  },
  "language_info": {
   "codemirror_mode": {
    "name": "ipython",
    "version": 3
   },
   "file_extension": ".py",
   "mimetype": "text/x-python",
   "name": "python",
   "nbconvert_exporter": "python",
   "pygments_lexer": "ipython3",
   "version": "3.8.8"
  }
 },
 "nbformat": 4,
 "nbformat_minor": 4
}
